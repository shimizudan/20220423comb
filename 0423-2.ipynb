{
 "cells": [
  {
   "cell_type": "markdown",
   "metadata": {},
   "source": [
    "# Permutation, Combination, Circular Permutation, Necklace Permutation"
   ]
  },
  {
   "cell_type": "markdown",
   "metadata": {},
   "source": [
    "## Preparation"
   ]
  },
  {
   "cell_type": "code",
   "execution_count": 20,
   "metadata": {},
   "outputs": [],
   "source": [
    "using Combinatorics\n",
    "seq = [1, 2, 3, 4, 5]\n",
    "seq2 = [1, 1, 1, 2, 2, 3]\n",
    "seq3 = [1, 1, 1, 1, 2, 2, 2, 2, 2, 2];"
   ]
  },
  {
   "cell_type": "markdown",
   "metadata": {},
   "source": [
    "## Permutation"
   ]
  },
  {
   "cell_type": "code",
   "execution_count": 19,
   "metadata": {},
   "outputs": [
    {
     "data": {
      "text/plain": [
       "60-element Vector{Vector{Int64}}:\n",
       " [1, 2, 3]\n",
       " [1, 2, 4]\n",
       " [1, 2, 5]\n",
       " [1, 3, 2]\n",
       " [1, 3, 4]\n",
       " [1, 3, 5]\n",
       " [1, 4, 2]\n",
       " [1, 4, 3]\n",
       " [1, 4, 5]\n",
       " [1, 5, 2]\n",
       " ⋮\n",
       " [5, 2, 1]\n",
       " [5, 2, 3]\n",
       " [5, 2, 4]\n",
       " [5, 3, 1]\n",
       " [5, 3, 2]\n",
       " [5, 3, 4]\n",
       " [5, 4, 1]\n",
       " [5, 4, 2]\n",
       " [5, 4, 3]"
      ]
     },
     "metadata": {},
     "output_type": "display_data"
    }
   ],
   "source": [
    "p = union(permutations(seq, 3)) \n",
    "# 順列（同じものでもOK）この例は集合から3個とって1列に並べる。"
   ]
  },
  {
   "cell_type": "code",
   "execution_count": 18,
   "metadata": {},
   "outputs": [
    {
     "data": {
      "text/plain": [
       "19-element Vector{Vector{Int64}}:\n",
       " [1, 1, 1]\n",
       " [1, 1, 2]\n",
       " [1, 1, 3]\n",
       " [1, 2, 1]\n",
       " [1, 2, 2]\n",
       " [1, 2, 3]\n",
       " [1, 3, 1]\n",
       " [1, 3, 2]\n",
       " [2, 1, 1]\n",
       " [2, 1, 2]\n",
       " [2, 1, 3]\n",
       " [2, 2, 1]\n",
       " [2, 2, 3]\n",
       " [2, 3, 1]\n",
       " [2, 3, 2]\n",
       " [3, 1, 1]\n",
       " [3, 1, 2]\n",
       " [3, 2, 1]\n",
       " [3, 2, 2]"
      ]
     },
     "metadata": {},
     "output_type": "display_data"
    }
   ],
   "source": [
    "p2 = union(permutations(seq2, 3)) "
   ]
  },
  {
   "cell_type": "markdown",
   "metadata": {},
   "source": [
    "## Combination"
   ]
  },
  {
   "cell_type": "code",
   "execution_count": 17,
   "metadata": {},
   "outputs": [
    {
     "data": {
      "text/plain": [
       "10-element Vector{Any}:\n",
       " [1, 2, 3]\n",
       " [1, 2, 4]\n",
       " [1, 2, 5]\n",
       " [1, 3, 4]\n",
       " [1, 3, 5]\n",
       " [1, 4, 5]\n",
       " [2, 3, 4]\n",
       " [2, 3, 5]\n",
       " [2, 4, 5]\n",
       " [3, 4, 5]"
      ]
     },
     "metadata": {},
     "output_type": "display_data"
    }
   ],
   "source": [
    "c = union(combinations(seq, 3)) \n",
    "# 組み合わせ（同じものでもOK）この例は集合から3個とってくる組み合わせ。"
   ]
  },
  {
   "cell_type": "code",
   "execution_count": 16,
   "metadata": {},
   "outputs": [
    {
     "data": {
      "text/plain": [
       "6-element Vector{Any}:\n",
       " [1, 1, 1]\n",
       " [1, 1, 2]\n",
       " [1, 1, 3]\n",
       " [1, 2, 2]\n",
       " [1, 2, 3]\n",
       " [2, 2, 3]"
      ]
     },
     "metadata": {},
     "output_type": "display_data"
    }
   ],
   "source": [
    "c = union(combinations(seq2, 3)) \n",
    "# 組み合わせ（同じものでもOK）この例は集合から3個とってくる組み合わせ。"
   ]
  },
  {
   "cell_type": "markdown",
   "metadata": {},
   "source": [
    "## Circular Permutation"
   ]
  },
  {
   "cell_type": "code",
   "execution_count": 7,
   "metadata": {},
   "outputs": [
    {
     "data": {
      "text/plain": [
       "20-element Vector{Vector{Int64}}:\n",
       " [1, 2, 3]\n",
       " [1, 2, 4]\n",
       " [1, 2, 5]\n",
       " [1, 3, 2]\n",
       " [1, 3, 4]\n",
       " [1, 3, 5]\n",
       " [1, 4, 2]\n",
       " [1, 4, 3]\n",
       " [1, 4, 5]\n",
       " [1, 5, 2]\n",
       " [1, 5, 3]\n",
       " [1, 5, 4]\n",
       " [2, 3, 4]\n",
       " [2, 3, 5]\n",
       " [2, 4, 3]\n",
       " [2, 4, 5]\n",
       " [2, 5, 3]\n",
       " [2, 5, 4]\n",
       " [3, 4, 5]\n",
       " [3, 5, 4]"
      ]
     },
     "metadata": {},
     "output_type": "display_data"
    }
   ],
   "source": [
    "# 円順列（同じものでもOK）この例は集合から3個とってくる円順列。\n",
    "function circperm(seq, k)\n",
    "    p = union(permutations(seq, k))\n",
    "    n = length(p)\n",
    "    d = []\n",
    "    for i = 1:n-1, j = i+1:n, t = 1:k-1\n",
    "        if p[i] == circshift(p[j], t)\n",
    "            push!(d, j)\n",
    "        end\n",
    "    end\n",
    "    deleteat!(p, sort!(union!(d)))\n",
    "end\n",
    "\n",
    "circperm(seq, 3)"
   ]
  },
  {
   "cell_type": "code",
   "execution_count": 14,
   "metadata": {},
   "outputs": [
    {
     "data": {
      "text/plain": [
       "7-element Vector{Vector{Int64}}:\n",
       " [1, 1, 1]\n",
       " [1, 1, 2]\n",
       " [1, 1, 3]\n",
       " [1, 2, 2]\n",
       " [1, 2, 3]\n",
       " [1, 3, 2]\n",
       " [2, 2, 3]"
      ]
     },
     "metadata": {},
     "output_type": "display_data"
    }
   ],
   "source": [
    "circperm(seq2, 3)"
   ]
  },
  {
   "cell_type": "code",
   "execution_count": 15,
   "metadata": {},
   "outputs": [
    {
     "data": {
      "text/plain": [
       "22-element Vector{Vector{Int64}}:\n",
       " [1, 1, 1, 1, 2, 2, 2, 2, 2, 2]\n",
       " [1, 1, 1, 2, 1, 2, 2, 2, 2, 2]\n",
       " [1, 1, 1, 2, 2, 1, 2, 2, 2, 2]\n",
       " [1, 1, 1, 2, 2, 2, 1, 2, 2, 2]\n",
       " [1, 1, 1, 2, 2, 2, 2, 1, 2, 2]\n",
       " [1, 1, 1, 2, 2, 2, 2, 2, 1, 2]\n",
       " [1, 1, 2, 1, 1, 2, 2, 2, 2, 2]\n",
       " [1, 1, 2, 1, 2, 1, 2, 2, 2, 2]\n",
       " [1, 1, 2, 1, 2, 2, 1, 2, 2, 2]\n",
       " [1, 1, 2, 1, 2, 2, 2, 1, 2, 2]\n",
       " ⋮\n",
       " [1, 1, 2, 2, 1, 2, 2, 1, 2, 2]\n",
       " [1, 1, 2, 2, 1, 2, 2, 2, 1, 2]\n",
       " [1, 1, 2, 2, 2, 1, 1, 2, 2, 2]\n",
       " [1, 1, 2, 2, 2, 1, 2, 1, 2, 2]\n",
       " [1, 1, 2, 2, 2, 1, 2, 2, 1, 2]\n",
       " [1, 1, 2, 2, 2, 2, 1, 2, 1, 2]\n",
       " [1, 2, 1, 2, 1, 2, 1, 2, 2, 2]\n",
       " [1, 2, 1, 2, 1, 2, 2, 1, 2, 2]\n",
       " [1, 2, 1, 2, 2, 1, 2, 1, 2, 2]"
      ]
     },
     "metadata": {},
     "output_type": "display_data"
    }
   ],
   "source": [
    "circperm(seq3, 10)"
   ]
  },
  {
   "cell_type": "markdown",
   "metadata": {},
   "source": [
    "## Necklace Permutation"
   ]
  },
  {
   "cell_type": "code",
   "execution_count": 10,
   "metadata": {},
   "outputs": [
    {
     "data": {
      "text/plain": [
       "10-element Vector{Vector{Int64}}:\n",
       " [1, 2, 3]\n",
       " [1, 2, 4]\n",
       " [1, 2, 5]\n",
       " [1, 3, 4]\n",
       " [1, 3, 5]\n",
       " [1, 4, 5]\n",
       " [2, 3, 4]\n",
       " [2, 3, 5]\n",
       " [2, 4, 5]\n",
       " [3, 4, 5]"
      ]
     },
     "metadata": {},
     "output_type": "display_data"
    }
   ],
   "source": [
    "# 数珠順列（同じものでもOK）この例は集合から3個とってくる円順列。\n",
    "function ringperm(seq, k)\n",
    "    p = circperm(seq, k)\n",
    "    n = length(p)\n",
    "    d = []\n",
    "    for i = 1:n-1, j = i+1:n, t = 1:k-1\n",
    "        if p[i] == circshift(reverse(p[j]),t)\n",
    "            push!(d, j)\n",
    "        end\n",
    "    end\n",
    "    deleteat!(p, sort!(union!(d)))\n",
    "end\n",
    "\n",
    "ringperm(seq, 3)"
   ]
  },
  {
   "cell_type": "code",
   "execution_count": 131,
   "metadata": {},
   "outputs": [
    {
     "data": {
      "text/plain": [
       "10-element Vector{Vector{Int64}}:\n",
       " [1, 2, 3]\n",
       " [1, 2, 4]\n",
       " [1, 2, 5]\n",
       " [1, 3, 4]\n",
       " [1, 3, 5]\n",
       " [1, 4, 5]\n",
       " [2, 3, 4]\n",
       " [2, 3, 5]\n",
       " [2, 4, 5]\n",
       " [3, 4, 5]"
      ]
     },
     "metadata": {},
     "output_type": "display_data"
    }
   ],
   "source": [
    "function ringperm(seq, k)\n",
    "    p = circperm(seq, k)\n",
    "    n = length(p)\n",
    "    d = []\n",
    "    for i = 1:n-1, j = i+1:n, t = 1:k-1\n",
    "        if p[i] == circshift(reverse(p[j]),t)\n",
    "            push!(d, j)\n",
    "        end\n",
    "    end\n",
    "    deleteat!(p, sort!(union!(d)))\n",
    "end\n",
    "\n",
    "ringperm(seq, 3)"
   ]
  },
  {
   "cell_type": "code",
   "execution_count": 11,
   "metadata": {},
   "outputs": [
    {
     "data": {
      "text/plain": [
       "6-element Vector{Vector{Int64}}:\n",
       " [1, 1, 1]\n",
       " [1, 1, 2]\n",
       " [1, 1, 3]\n",
       " [1, 2, 2]\n",
       " [1, 2, 3]\n",
       " [2, 2, 3]"
      ]
     },
     "metadata": {},
     "output_type": "display_data"
    }
   ],
   "source": [
    "ringperm(seq2, 3)"
   ]
  },
  {
   "cell_type": "code",
   "execution_count": 12,
   "metadata": {},
   "outputs": [
    {
     "data": {
      "text/plain": [
       "16-element Vector{Vector{Int64}}:\n",
       " [1, 1, 1, 1, 2, 2, 2, 2, 2, 2]\n",
       " [1, 1, 1, 2, 1, 2, 2, 2, 2, 2]\n",
       " [1, 1, 1, 2, 2, 1, 2, 2, 2, 2]\n",
       " [1, 1, 1, 2, 2, 2, 1, 2, 2, 2]\n",
       " [1, 1, 2, 1, 1, 2, 2, 2, 2, 2]\n",
       " [1, 1, 2, 1, 2, 1, 2, 2, 2, 2]\n",
       " [1, 1, 2, 1, 2, 2, 1, 2, 2, 2]\n",
       " [1, 1, 2, 1, 2, 2, 2, 1, 2, 2]\n",
       " [1, 1, 2, 1, 2, 2, 2, 2, 1, 2]\n",
       " [1, 1, 2, 2, 1, 1, 2, 2, 2, 2]\n",
       " [1, 1, 2, 2, 1, 2, 1, 2, 2, 2]\n",
       " [1, 1, 2, 2, 1, 2, 2, 1, 2, 2]\n",
       " [1, 1, 2, 2, 2, 1, 1, 2, 2, 2]\n",
       " [1, 2, 1, 2, 1, 2, 1, 2, 2, 2]\n",
       " [1, 2, 1, 2, 1, 2, 2, 1, 2, 2]\n",
       " [1, 2, 1, 2, 2, 1, 2, 1, 2, 2]"
      ]
     },
     "metadata": {},
     "output_type": "display_data"
    }
   ],
   "source": [
    "ringperm(seq3, 10)"
   ]
  }
 ],
 "metadata": {
  "kernelspec": {
   "display_name": "Julia 1.7.2",
   "language": "julia",
   "name": "julia-1.7"
  },
  "language_info": {
   "file_extension": ".jl",
   "mimetype": "application/julia",
   "name": "julia",
   "version": "1.7.2"
  },
  "orig_nbformat": 4
 },
 "nbformat": 4,
 "nbformat_minor": 2
}
