{
 "cells": [
  {
   "cell_type": "code",
   "execution_count": 5,
   "metadata": {},
   "outputs": [
    {
     "data": {
      "text/plain": [
       "ringperm (generic function with 1 method)"
      ]
     },
     "metadata": {},
     "output_type": "display_data"
    }
   ],
   "source": [
    "using Combinatorics\n",
    "\n",
    "# 円順列（同じものでもOK）\n",
    "function circperm(seq, k)\n",
    "    a = sort!(seq)\n",
    "    p = union(permutations(a, k))\n",
    "    n = length(p)\n",
    "    d = []\n",
    "    for i = 1:n-1, j = i+1:n, t = 1:k-1\n",
    "        if p[i] == circshift(p[j], t)\n",
    "            push!(d, j)\n",
    "        end\n",
    "    end\n",
    "    deleteat!(p, sort!(union!(d)))\n",
    "end\n",
    "\n",
    "# 数珠順列（同じものでもOK）\n",
    "function ringperm(seq, k)\n",
    "    a = sort!(seq)\n",
    "    p = circperm(a, k)\n",
    "    n = length(p)\n",
    "    d = []\n",
    "    for i = 1:n-1, j = i+1:n, t = 1:k-1\n",
    "        if p[i] == circshift(reverse(p[j]), t)\n",
    "            push!(d, j)\n",
    "        end\n",
    "    end\n",
    "    deleteat!(p, sort!(union!(d)))\n",
    "end"
   ]
  },
  {
   "cell_type": "code",
   "execution_count": 6,
   "metadata": {},
   "outputs": [
    {
     "data": {
      "text/plain": [
       "165-element Vector{Vector{Int64}}:\n",
       " [1, 1, 1, 1]\n",
       " [1, 1, 1, 2]\n",
       " [1, 1, 1, 3]\n",
       " [1, 1, 1, 4]\n",
       " [1, 1, 1, 5]\n",
       " [1, 1, 2, 2]\n",
       " [1, 1, 2, 3]\n",
       " [1, 1, 2, 4]\n",
       " [1, 1, 2, 5]\n",
       " [1, 1, 3, 2]\n",
       " ⋮\n",
       " [3, 5, 4, 5]\n",
       " [3, 5, 5, 4]\n",
       " [3, 5, 5, 5]\n",
       " [4, 4, 4, 4]\n",
       " [4, 4, 4, 5]\n",
       " [4, 4, 5, 5]\n",
       " [4, 5, 4, 5]\n",
       " [4, 5, 5, 5]\n",
       " [5, 5, 5, 5]"
      ]
     },
     "metadata": {},
     "output_type": "display_data"
    }
   ],
   "source": [
    "\n",
    "seq = [1,1,1,1,2,2,2,2,3,3,3,3,4,4,4,4,5,5,5,5]\n",
    "\n",
    "\n",
    "circperm(seq, 4)"
   ]
  },
  {
   "cell_type": "code",
   "execution_count": 7,
   "metadata": {},
   "outputs": [
    {
     "data": {
      "text/plain": [
       "120-element Vector{Vector{Int64}}:\n",
       " [1, 1, 1, 1]\n",
       " [1, 1, 1, 2]\n",
       " [1, 1, 1, 3]\n",
       " [1, 1, 1, 4]\n",
       " [1, 1, 1, 5]\n",
       " [1, 1, 2, 2]\n",
       " [1, 1, 2, 3]\n",
       " [1, 1, 2, 4]\n",
       " [1, 1, 2, 5]\n",
       " [1, 1, 3, 3]\n",
       " ⋮\n",
       " [3, 5, 3, 5]\n",
       " [3, 5, 4, 5]\n",
       " [3, 5, 5, 5]\n",
       " [4, 4, 4, 4]\n",
       " [4, 4, 4, 5]\n",
       " [4, 4, 5, 5]\n",
       " [4, 5, 4, 5]\n",
       " [4, 5, 5, 5]\n",
       " [5, 5, 5, 5]"
      ]
     },
     "metadata": {},
     "output_type": "display_data"
    }
   ],
   "source": [
    "\n",
    "seq = [1,1,1,1,2,2,2,2,3,3,3,3,4,4,4,4,5,5,5,5]\n",
    "\n",
    "\n",
    "ringperm(seq, 4)"
   ]
  },
  {
   "cell_type": "code",
   "execution_count": null,
   "metadata": {},
   "outputs": [],
   "source": []
  }
 ],
 "metadata": {
  "kernelspec": {
   "display_name": "Julia 1.7.2",
   "language": "julia",
   "name": "julia-1.7"
  },
  "language_info": {
   "file_extension": ".jl",
   "mimetype": "application/julia",
   "name": "julia",
   "version": "1.7.2"
  },
  "orig_nbformat": 4
 },
 "nbformat": 4,
 "nbformat_minor": 2
}
